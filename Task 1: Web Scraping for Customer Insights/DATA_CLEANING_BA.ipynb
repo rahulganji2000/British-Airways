{
 "cells": [
  {
   "cell_type": "code",
   "execution_count": 2,
   "id": "444ff31b-6370-4a60-81ff-89ad35a848df",
   "metadata": {},
   "outputs": [],
   "source": [
    "import numpy as np\n",
    "import matplotlib.pyplot as plt\n",
    "import pandas as pd"
   ]
  },
  {
   "cell_type": "code",
   "execution_count": 3,
   "id": "feff9dfc-f2ad-4e23-bf1c-8b989596a2fd",
   "metadata": {},
   "outputs": [],
   "source": [
    "df = pd.read_csv(\"reviews_data.csv\")"
   ]
  },
  {
   "cell_type": "code",
   "execution_count": 4,
   "id": "905415a4-d80c-44ae-ab19-7b316e5d85b8",
   "metadata": {},
   "outputs": [
    {
     "data": {
      "text/html": [
       "<div>\n",
       "<style scoped>\n",
       "    .dataframe tbody tr th:only-of-type {\n",
       "        vertical-align: middle;\n",
       "    }\n",
       "\n",
       "    .dataframe tbody tr th {\n",
       "        vertical-align: top;\n",
       "    }\n",
       "\n",
       "    .dataframe thead th {\n",
       "        text-align: right;\n",
       "    }\n",
       "</style>\n",
       "<table border=\"1\" class=\"dataframe\">\n",
       "  <thead>\n",
       "    <tr style=\"text-align: right;\">\n",
       "      <th></th>\n",
       "      <th>Reviews</th>\n",
       "      <th>Stars</th>\n",
       "      <th>Date</th>\n",
       "      <th>Country</th>\n",
       "    </tr>\n",
       "  </thead>\n",
       "  <tbody>\n",
       "    <tr>\n",
       "      <th>0</th>\n",
       "      <td>Not Verified | I did not actually get to fly w...</td>\n",
       "      <td>5.0</td>\n",
       "      <td>5th February 2024</td>\n",
       "      <td>United Kingdom</td>\n",
       "    </tr>\n",
       "    <tr>\n",
       "      <th>1</th>\n",
       "      <td>✅ Trip Verified | We had possibly the worse ch...</td>\n",
       "      <td>1.0</td>\n",
       "      <td>2nd February 2024</td>\n",
       "      <td>United Kingdom</td>\n",
       "    </tr>\n",
       "    <tr>\n",
       "      <th>2</th>\n",
       "      <td>✅ Trip Verified |  I flew to LHR from ATH in C...</td>\n",
       "      <td>6.0</td>\n",
       "      <td>30th January 2024</td>\n",
       "      <td>Japan</td>\n",
       "    </tr>\n",
       "    <tr>\n",
       "      <th>3</th>\n",
       "      <td>✅ Trip Verified |  I like the British Airways ...</td>\n",
       "      <td>9.0</td>\n",
       "      <td>29th January 2024</td>\n",
       "      <td>United Kingdom</td>\n",
       "    </tr>\n",
       "    <tr>\n",
       "      <th>4</th>\n",
       "      <td>✅ Trip Verified |  I have come to boarding and...</td>\n",
       "      <td>8.0</td>\n",
       "      <td>28th January 2024</td>\n",
       "      <td>Ukraine</td>\n",
       "    </tr>\n",
       "  </tbody>\n",
       "</table>\n",
       "</div>"
      ],
      "text/plain": [
       "                                             Reviews  Stars  \\\n",
       "0  Not Verified | I did not actually get to fly w...    5.0   \n",
       "1  ✅ Trip Verified | We had possibly the worse ch...    1.0   \n",
       "2  ✅ Trip Verified |  I flew to LHR from ATH in C...    6.0   \n",
       "3  ✅ Trip Verified |  I like the British Airways ...    9.0   \n",
       "4  ✅ Trip Verified |  I have come to boarding and...    8.0   \n",
       "\n",
       "                Date         Country  \n",
       "0  5th February 2024  United Kingdom  \n",
       "1  2nd February 2024  United Kingdom  \n",
       "2  30th January 2024           Japan  \n",
       "3  29th January 2024  United Kingdom  \n",
       "4  28th January 2024         Ukraine  "
      ]
     },
     "execution_count": 4,
     "metadata": {},
     "output_type": "execute_result"
    }
   ],
   "source": [
    "df.head()"
   ]
  },
  {
   "cell_type": "markdown",
   "id": "84c8e43b-1091-4551-a7b4-9ea327bd4e16",
   "metadata": {},
   "source": [
    "### 1.Reviews Column"
   ]
  },
  {
   "cell_type": "code",
   "execution_count": 5,
   "id": "7c1813af-db8e-4915-ab7f-b777ed31c761",
   "metadata": {},
   "outputs": [
    {
     "name": "stdout",
     "output_type": "stream",
     "text": [
      "Not Verified | I did not actually get to fly with BA as they cancelled the flight with 3 days notice and refused to offer an acceptable alternative, resulting in 2 people losing their holiday (a river cruise). Since then, as appears to be their standard protocol, they have ignored every communication regarding their obligations for compensation and I have no option but to pursue them via official channels. \n"
     ]
    }
   ],
   "source": [
    "# Print the first row of the \"Reviews\" column\n",
    "print(df['Reviews'].iloc[0])"
   ]
  },
  {
   "cell_type": "markdown",
   "id": "048c1db3-927a-40d3-8e6b-8c93f1360611",
   "metadata": {},
   "source": [
    "Spliting the review column into two new columns:\n",
    "* one for verification purposes boolean value (Trip Verified - True, Trip Not Verified )\n",
    "* Second column consisting of just reviews in lower case."
   ]
  },
  {
   "cell_type": "code",
   "execution_count": 6,
   "id": "bd44f9d8-ac83-442d-a7aa-68409046be4d",
   "metadata": {},
   "outputs": [
    {
     "name": "stdout",
     "output_type": "stream",
     "text": [
      "                                             Reviews  Stars  \\\n",
      "0  Not Verified | I did not actually get to fly w...    5.0   \n",
      "1  ✅ Trip Verified | We had possibly the worse ch...    1.0   \n",
      "2  ✅ Trip Verified |  I flew to LHR from ATH in C...    6.0   \n",
      "3  ✅ Trip Verified |  I like the British Airways ...    9.0   \n",
      "4  ✅ Trip Verified |  I have come to boarding and...    8.0   \n",
      "\n",
      "                Date         Country  Verified  \n",
      "0  5th February 2024  United Kingdom     False  \n",
      "1  2nd February 2024  United Kingdom      True  \n",
      "2  30th January 2024           Japan      True  \n",
      "3  29th January 2024  United Kingdom      True  \n",
      "4  28th January 2024         Ukraine      True  \n"
     ]
    }
   ],
   "source": [
    "# Check if the 'Reviews' column contains the text \"Verified\" and create a boolean column 'Verified'\n",
    "df['Verified'] = df['Reviews'].str.contains('Trip Verified', case=False)\n",
    "\n",
    "# Display the modified DataFrame\n",
    "print(df.head())"
   ]
  },
  {
   "cell_type": "code",
   "execution_count": 7,
   "id": "41fb765f-70fc-4123-b23c-5d4927f66eab",
   "metadata": {},
   "outputs": [
    {
     "name": "stderr",
     "output_type": "stream",
     "text": [
      "[nltk_data] Downloading package stopwords to\n",
      "[nltk_data]     C:\\Users\\grahu\\AppData\\Roaming\\nltk_data...\n",
      "[nltk_data]   Package stopwords is already up-to-date!\n",
      "[nltk_data] Downloading package wordnet to\n",
      "[nltk_data]     C:\\Users\\grahu\\AppData\\Roaming\\nltk_data...\n",
      "[nltk_data]   Package wordnet is already up-to-date!\n"
     ]
    },
    {
     "data": {
      "text/plain": [
       "True"
      ]
     },
     "execution_count": 7,
     "metadata": {},
     "output_type": "execute_result"
    }
   ],
   "source": [
    "import nltk\n",
    "nltk.download('stopwords')\n",
    "nltk.download('wordnet')"
   ]
  },
  {
   "cell_type": "code",
   "execution_count": 8,
   "id": "7835ec97-6faa-4a59-a17b-84ba4951c640",
   "metadata": {},
   "outputs": [],
   "source": [
    "from nltk.stem import WordNetLemmatizer\n",
    "from nltk.corpus import stopwords\n",
    "import re\n",
    "\n",
    "# Create an instance of WordNetLemmatizer\n",
    "lemma = WordNetLemmatizer() \n",
    "\n",
    "# Assuming 'Reviews' is the correct column name in your DataFrame\n",
    "reviews_data = df['Reviews'].str.replace('✅ Trip Verified |', '')\n",
    "\n",
    "# Create an empty list to collect cleaned data\n",
    "processed_reviews = []\n",
    "\n",
    "# Loop through each review, remove punctuations, convert to lowercase, lemmatize, and add to processed_reviews\n",
    "for rev in reviews_data:\n",
    "    rev = re.sub('[^a-zA-Z]', ' ', rev)\n",
    "    rev = rev.lower()\n",
    "    rev = rev.split()\n",
    "    rev = [lemma.lemmatize(word) for word in rev if word not in set(stopwords.words(\"english\"))]\n",
    "    rev = \" \".join(rev)\n",
    "    processed_reviews.append(rev)"
   ]
  },
  {
   "cell_type": "code",
   "execution_count": 9,
   "id": "97cdca2c-cccb-4244-8926-15357478443f",
   "metadata": {},
   "outputs": [],
   "source": [
    "df['New_reviews'] = processed_reviews"
   ]
  },
  {
   "cell_type": "code",
   "execution_count": 10,
   "id": "bc39808f-0e45-4794-905f-735c39bed776",
   "metadata": {},
   "outputs": [
    {
     "data": {
      "text/html": [
       "<div>\n",
       "<style scoped>\n",
       "    .dataframe tbody tr th:only-of-type {\n",
       "        vertical-align: middle;\n",
       "    }\n",
       "\n",
       "    .dataframe tbody tr th {\n",
       "        vertical-align: top;\n",
       "    }\n",
       "\n",
       "    .dataframe thead th {\n",
       "        text-align: right;\n",
       "    }\n",
       "</style>\n",
       "<table border=\"1\" class=\"dataframe\">\n",
       "  <thead>\n",
       "    <tr style=\"text-align: right;\">\n",
       "      <th></th>\n",
       "      <th>Reviews</th>\n",
       "      <th>Stars</th>\n",
       "      <th>Date</th>\n",
       "      <th>Country</th>\n",
       "      <th>Verified</th>\n",
       "      <th>New_reviews</th>\n",
       "    </tr>\n",
       "  </thead>\n",
       "  <tbody>\n",
       "    <tr>\n",
       "      <th>0</th>\n",
       "      <td>Not Verified | I did not actually get to fly w...</td>\n",
       "      <td>5.0</td>\n",
       "      <td>5th February 2024</td>\n",
       "      <td>United Kingdom</td>\n",
       "      <td>False</td>\n",
       "      <td>verified actually get fly ba cancelled flight ...</td>\n",
       "    </tr>\n",
       "    <tr>\n",
       "      <th>1</th>\n",
       "      <td>✅ Trip Verified | We had possibly the worse ch...</td>\n",
       "      <td>1.0</td>\n",
       "      <td>2nd February 2024</td>\n",
       "      <td>United Kingdom</td>\n",
       "      <td>True</td>\n",
       "      <td>possibly worse check experience ever ever took...</td>\n",
       "    </tr>\n",
       "    <tr>\n",
       "      <th>2</th>\n",
       "      <td>✅ Trip Verified |  I flew to LHR from ATH in C...</td>\n",
       "      <td>6.0</td>\n",
       "      <td>30th January 2024</td>\n",
       "      <td>Japan</td>\n",
       "      <td>True</td>\n",
       "      <td>flew lhr ath club europe ba dec transfer jal f...</td>\n",
       "    </tr>\n",
       "    <tr>\n",
       "      <th>3</th>\n",
       "      <td>✅ Trip Verified |  I like the British Airways ...</td>\n",
       "      <td>9.0</td>\n",
       "      <td>29th January 2024</td>\n",
       "      <td>United Kingdom</td>\n",
       "      <td>True</td>\n",
       "      <td>like british airway world traveller plus produ...</td>\n",
       "    </tr>\n",
       "    <tr>\n",
       "      <th>4</th>\n",
       "      <td>✅ Trip Verified |  I have come to boarding and...</td>\n",
       "      <td>8.0</td>\n",
       "      <td>28th January 2024</td>\n",
       "      <td>Ukraine</td>\n",
       "      <td>True</td>\n",
       "      <td>come boarding cabin luggage taken plane full a...</td>\n",
       "    </tr>\n",
       "  </tbody>\n",
       "</table>\n",
       "</div>"
      ],
      "text/plain": [
       "                                             Reviews  Stars  \\\n",
       "0  Not Verified | I did not actually get to fly w...    5.0   \n",
       "1  ✅ Trip Verified | We had possibly the worse ch...    1.0   \n",
       "2  ✅ Trip Verified |  I flew to LHR from ATH in C...    6.0   \n",
       "3  ✅ Trip Verified |  I like the British Airways ...    9.0   \n",
       "4  ✅ Trip Verified |  I have come to boarding and...    8.0   \n",
       "\n",
       "                Date         Country  Verified  \\\n",
       "0  5th February 2024  United Kingdom     False   \n",
       "1  2nd February 2024  United Kingdom      True   \n",
       "2  30th January 2024           Japan      True   \n",
       "3  29th January 2024  United Kingdom      True   \n",
       "4  28th January 2024         Ukraine      True   \n",
       "\n",
       "                                         New_reviews  \n",
       "0  verified actually get fly ba cancelled flight ...  \n",
       "1  possibly worse check experience ever ever took...  \n",
       "2  flew lhr ath club europe ba dec transfer jal f...  \n",
       "3  like british airway world traveller plus produ...  \n",
       "4  come boarding cabin luggage taken plane full a...  "
      ]
     },
     "execution_count": 10,
     "metadata": {},
     "output_type": "execute_result"
    }
   ],
   "source": [
    "df.head()"
   ]
  },
  {
   "cell_type": "markdown",
   "id": "5056b50c-bfc8-4305-97d7-bd049720693f",
   "metadata": {},
   "source": [
    "### 2. Date Column"
   ]
  },
  {
   "cell_type": "code",
   "execution_count": 11,
   "id": "d169b3fa-8b3f-4dfb-ae7a-c7a77c165a1c",
   "metadata": {},
   "outputs": [],
   "source": [
    "# convert the date to datetime format\n",
    "from dateutil import parser\n",
    "df['Date'] = df['Date'].apply(lambda x: parser.parse(x, fuzzy=True))"
   ]
  },
  {
   "cell_type": "code",
   "execution_count": 12,
   "id": "43cb9167-7842-4cd9-93c0-33da29edb627",
   "metadata": {},
   "outputs": [
    {
     "data": {
      "text/plain": [
       "0   2024-02-05\n",
       "1   2024-02-02\n",
       "2   2024-01-30\n",
       "3   2024-01-29\n",
       "4   2024-01-28\n",
       "Name: Date, dtype: datetime64[ns]"
      ]
     },
     "execution_count": 12,
     "metadata": {},
     "output_type": "execute_result"
    }
   ],
   "source": [
    "df.Date.head()"
   ]
  },
  {
   "cell_type": "markdown",
   "id": "3d4f005d-5e5d-4b13-91bf-3e6243373cf0",
   "metadata": {},
   "source": [
    "### 3. Stars Column"
   ]
  },
  {
   "cell_type": "code",
   "execution_count": 13,
   "id": "d0b8f364-8eb5-4423-91da-04eb3deec38e",
   "metadata": {},
   "outputs": [
    {
     "data": {
      "text/plain": [
       "array([ 5.,  1.,  6.,  9.,  8.,  3.,  2.,  4., 10.,  7., nan])"
      ]
     },
     "execution_count": 13,
     "metadata": {},
     "output_type": "execute_result"
    }
   ],
   "source": [
    "#check for unique values\n",
    "df.Stars.unique()"
   ]
  },
  {
   "cell_type": "code",
   "execution_count": 14,
   "id": "cf85b161-9659-4e4c-a0bf-5796d410f360",
   "metadata": {},
   "outputs": [
    {
     "data": {
      "text/plain": [
       "Stars\n",
       "1.0     845\n",
       "2.0     405\n",
       "3.0     394\n",
       "8.0     344\n",
       "10.0    288\n",
       "9.0     281\n",
       "7.0     276\n",
       "5.0     248\n",
       "4.0     240\n",
       "6.0     175\n",
       "Name: count, dtype: int64"
      ]
     },
     "execution_count": 14,
     "metadata": {},
     "output_type": "execute_result"
    }
   ],
   "source": [
    "df.Stars.value_counts()"
   ]
  },
  {
   "cell_type": "markdown",
   "id": "5491c2e0-f69c-4c74-bc5a-fd638ab9de02",
   "metadata": {},
   "source": [
    "### Checking for missing values"
   ]
  },
  {
   "cell_type": "code",
   "execution_count": 15,
   "id": "8c1990ce-252b-4a47-9369-2b10d6be275f",
   "metadata": {},
   "outputs": [
    {
     "name": "stdout",
     "output_type": "stream",
     "text": [
      "Missing Values:\n",
      " Reviews        0\n",
      "Stars          4\n",
      "Date           0\n",
      "Country        2\n",
      "Verified       0\n",
      "New_reviews    0\n",
      "dtype: int64\n"
     ]
    }
   ],
   "source": [
    "# Check for missing values in the entire DataFrame\n",
    "missing_values = df.isnull().sum()\n",
    "\n",
    "# Print the count of missing values for each column\n",
    "print(\"Missing Values:\\n\", missing_values)"
   ]
  },
  {
   "cell_type": "code",
   "execution_count": 18,
   "id": "daff8d41-0b3a-49bb-af56-9cae499cdfb0",
   "metadata": {},
   "outputs": [
    {
     "data": {
      "text/html": [
       "<div>\n",
       "<style scoped>\n",
       "    .dataframe tbody tr th:only-of-type {\n",
       "        vertical-align: middle;\n",
       "    }\n",
       "\n",
       "    .dataframe tbody tr th {\n",
       "        vertical-align: top;\n",
       "    }\n",
       "\n",
       "    .dataframe thead th {\n",
       "        text-align: right;\n",
       "    }\n",
       "</style>\n",
       "<table border=\"1\" class=\"dataframe\">\n",
       "  <thead>\n",
       "    <tr style=\"text-align: right;\">\n",
       "      <th></th>\n",
       "      <th>Reviews</th>\n",
       "      <th>Stars</th>\n",
       "      <th>Date</th>\n",
       "      <th>Country</th>\n",
       "      <th>Verified</th>\n",
       "      <th>New_reviews</th>\n",
       "    </tr>\n",
       "  </thead>\n",
       "  <tbody>\n",
       "    <tr>\n",
       "      <th>0</th>\n",
       "      <td>Not Verified | I did not actually get to fly w...</td>\n",
       "      <td>5.0</td>\n",
       "      <td>2024-02-05</td>\n",
       "      <td>United Kingdom</td>\n",
       "      <td>False</td>\n",
       "      <td>verified actually get fly ba cancelled flight ...</td>\n",
       "    </tr>\n",
       "    <tr>\n",
       "      <th>1</th>\n",
       "      <td>✅ Trip Verified | We had possibly the worse ch...</td>\n",
       "      <td>1.0</td>\n",
       "      <td>2024-02-02</td>\n",
       "      <td>United Kingdom</td>\n",
       "      <td>True</td>\n",
       "      <td>possibly worse check experience ever ever took...</td>\n",
       "    </tr>\n",
       "    <tr>\n",
       "      <th>2</th>\n",
       "      <td>✅ Trip Verified |  I flew to LHR from ATH in C...</td>\n",
       "      <td>6.0</td>\n",
       "      <td>2024-01-30</td>\n",
       "      <td>Japan</td>\n",
       "      <td>True</td>\n",
       "      <td>flew lhr ath club europe ba dec transfer jal f...</td>\n",
       "    </tr>\n",
       "    <tr>\n",
       "      <th>3</th>\n",
       "      <td>✅ Trip Verified |  I like the British Airways ...</td>\n",
       "      <td>9.0</td>\n",
       "      <td>2024-01-29</td>\n",
       "      <td>United Kingdom</td>\n",
       "      <td>True</td>\n",
       "      <td>like british airway world traveller plus produ...</td>\n",
       "    </tr>\n",
       "    <tr>\n",
       "      <th>4</th>\n",
       "      <td>✅ Trip Verified |  I have come to boarding and...</td>\n",
       "      <td>8.0</td>\n",
       "      <td>2024-01-28</td>\n",
       "      <td>Ukraine</td>\n",
       "      <td>True</td>\n",
       "      <td>come boarding cabin luggage taken plane full a...</td>\n",
       "    </tr>\n",
       "    <tr>\n",
       "      <th>...</th>\n",
       "      <td>...</td>\n",
       "      <td>...</td>\n",
       "      <td>...</td>\n",
       "      <td>...</td>\n",
       "      <td>...</td>\n",
       "      <td>...</td>\n",
       "    </tr>\n",
       "    <tr>\n",
       "      <th>3489</th>\n",
       "      <td>LHR-PHL on a 787 Dreamliner seat 3K. I recomme...</td>\n",
       "      <td>1.0</td>\n",
       "      <td>2014-09-06</td>\n",
       "      <td>United Kingdom</td>\n",
       "      <td>False</td>\n",
       "      <td>lhr phl dreamliner seat k recommend seat k k g...</td>\n",
       "    </tr>\n",
       "    <tr>\n",
       "      <th>3490</th>\n",
       "      <td>Travelled with BA from Rome to LHR. Staff at R...</td>\n",
       "      <td>8.0</td>\n",
       "      <td>2014-09-06</td>\n",
       "      <td>United Kingdom</td>\n",
       "      <td>False</td>\n",
       "      <td>travelled ba rome lhr staff rome wonderful con...</td>\n",
       "    </tr>\n",
       "    <tr>\n",
       "      <th>3491</th>\n",
       "      <td>London to Budapest on Club World-now I don't e...</td>\n",
       "      <td>2.0</td>\n",
       "      <td>2014-09-06</td>\n",
       "      <td>Australia</td>\n",
       "      <td>False</td>\n",
       "      <td>london budapest club world even mention fact l...</td>\n",
       "    </tr>\n",
       "    <tr>\n",
       "      <th>3492</th>\n",
       "      <td>We flew Premium Economy on BA from Boston to L...</td>\n",
       "      <td>8.0</td>\n",
       "      <td>2014-09-06</td>\n",
       "      <td>United States</td>\n",
       "      <td>False</td>\n",
       "      <td>flew premium economy ba boston london london j...</td>\n",
       "    </tr>\n",
       "    <tr>\n",
       "      <th>3493</th>\n",
       "      <td>This was the first long-haul flight I'd taken ...</td>\n",
       "      <td>5.0</td>\n",
       "      <td>2014-09-06</td>\n",
       "      <td>United Kingdom</td>\n",
       "      <td>False</td>\n",
       "      <td>first long haul flight taken year high hope lo...</td>\n",
       "    </tr>\n",
       "  </tbody>\n",
       "</table>\n",
       "<p>3494 rows × 6 columns</p>\n",
       "</div>"
      ],
      "text/plain": [
       "                                                Reviews  Stars       Date  \\\n",
       "0     Not Verified | I did not actually get to fly w...    5.0 2024-02-05   \n",
       "1     ✅ Trip Verified | We had possibly the worse ch...    1.0 2024-02-02   \n",
       "2     ✅ Trip Verified |  I flew to LHR from ATH in C...    6.0 2024-01-30   \n",
       "3     ✅ Trip Verified |  I like the British Airways ...    9.0 2024-01-29   \n",
       "4     ✅ Trip Verified |  I have come to boarding and...    8.0 2024-01-28   \n",
       "...                                                 ...    ...        ...   \n",
       "3489  LHR-PHL on a 787 Dreamliner seat 3K. I recomme...    1.0 2014-09-06   \n",
       "3490  Travelled with BA from Rome to LHR. Staff at R...    8.0 2014-09-06   \n",
       "3491  London to Budapest on Club World-now I don't e...    2.0 2014-09-06   \n",
       "3492  We flew Premium Economy on BA from Boston to L...    8.0 2014-09-06   \n",
       "3493  This was the first long-haul flight I'd taken ...    5.0 2014-09-06   \n",
       "\n",
       "             Country  Verified  \\\n",
       "0     United Kingdom     False   \n",
       "1     United Kingdom      True   \n",
       "2              Japan      True   \n",
       "3     United Kingdom      True   \n",
       "4            Ukraine      True   \n",
       "...              ...       ...   \n",
       "3489  United Kingdom     False   \n",
       "3490  United Kingdom     False   \n",
       "3491       Australia     False   \n",
       "3492   United States     False   \n",
       "3493  United Kingdom     False   \n",
       "\n",
       "                                            New_reviews  \n",
       "0     verified actually get fly ba cancelled flight ...  \n",
       "1     possibly worse check experience ever ever took...  \n",
       "2     flew lhr ath club europe ba dec transfer jal f...  \n",
       "3     like british airway world traveller plus produ...  \n",
       "4     come boarding cabin luggage taken plane full a...  \n",
       "...                                                 ...  \n",
       "3489  lhr phl dreamliner seat k recommend seat k k g...  \n",
       "3490  travelled ba rome lhr staff rome wonderful con...  \n",
       "3491  london budapest club world even mention fact l...  \n",
       "3492  flew premium economy ba boston london london j...  \n",
       "3493  first long haul flight taken year high hope lo...  \n",
       "\n",
       "[3494 rows x 6 columns]"
      ]
     },
     "execution_count": 18,
     "metadata": {},
     "output_type": "execute_result"
    }
   ],
   "source": [
    "# Drop missing values\n",
    "# Drop rows with missing values in the specified columns\n",
    "columns_to_check = ['Stars', 'Country']  # Add other columns if needed\n",
    "df_cleaned = df.dropna(subset=columns_to_check)\n",
    "\n",
    "#resetting the index\n",
    "df_cleaned.reset_index(drop=True)"
   ]
  },
  {
   "cell_type": "code",
   "execution_count": 19,
   "id": "2c9cd1b2-a5df-4599-967f-060fffd29b1c",
   "metadata": {},
   "outputs": [
    {
     "data": {
      "text/plain": [
       "Reviews                object\n",
       "Stars                 float64\n",
       "Date           datetime64[ns]\n",
       "Country                object\n",
       "Verified                 bool\n",
       "New_reviews            object\n",
       "dtype: object"
      ]
     },
     "execution_count": 19,
     "metadata": {},
     "output_type": "execute_result"
    }
   ],
   "source": [
    "df_cleaned.dtypes"
   ]
  },
  {
   "cell_type": "code",
   "execution_count": 20,
   "id": "c96211a3-8149-472b-b949-f13a6022371f",
   "metadata": {},
   "outputs": [],
   "source": [
    "df_cleaned.to_csv('cleaned_data.csv', index=False)"
   ]
  },
  {
   "cell_type": "code",
   "execution_count": null,
   "id": "ee5e5e8d-2f9c-4224-9689-10921e172929",
   "metadata": {},
   "outputs": [],
   "source": []
  }
 ],
 "metadata": {
  "kernelspec": {
   "display_name": "Python 3 (ipykernel)",
   "language": "python",
   "name": "python3"
  },
  "language_info": {
   "codemirror_mode": {
    "name": "ipython",
    "version": 3
   },
   "file_extension": ".py",
   "mimetype": "text/x-python",
   "name": "python",
   "nbconvert_exporter": "python",
   "pygments_lexer": "ipython3",
   "version": "3.12.0"
  }
 },
 "nbformat": 4,
 "nbformat_minor": 5
}
