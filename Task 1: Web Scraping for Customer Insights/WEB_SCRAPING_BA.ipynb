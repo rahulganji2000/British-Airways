{
 "cells": [
  {
   "cell_type": "markdown",
   "metadata": {},
   "source": [
    "# Task 1\n",
    "\n",
    "---\n",
    "\n",
    "## Web scraping and analysis\n",
    "\n",
    "This Jupyter notebook includes some code to get you started with web scraping. We will use a package called `BeautifulSoup` to collect the data from the web. Once you've collected your data and saved it into a local `.csv` file you should start with your analysis.\n",
    "\n",
    "### Scraping data from Skytrax\n",
    "\n",
    "If you visit [https://www.airlinequality.com] you can see that there is a lot of data there. For this task, we are only interested in reviews related to British Airways and the Airline itself.\n",
    "\n",
    "If you navigate to this link: [https://www.airlinequality.com/airline-reviews/british-airways] you will see this data. Now, we can use `Python` and `BeautifulSoup` to collect all the links to the reviews and then to collect the text data on each of the individual review links."
   ]
  },
  {
   "cell_type": "code",
   "execution_count": 1,
   "metadata": {},
   "outputs": [],
   "source": [
    "# Import the 'requests' library, which is used for making HTTP requests to retrieve web page content\n",
    "import requests\n",
    "\n",
    "# Import the 'BeautifulSoup' class from the 'bs4' (Beautiful Soup) library,\n",
    "# used for parsing HTML and navigating the parse tree\n",
    "from bs4 import BeautifulSoup\n",
    "\n",
    "# Import the 'pandas' library for data manipulation and analysis using DataFrame structures\n",
    "import pandas as pd\n",
    "\n",
    "# Import the 'numpy' library for numerical operations and array manipulation\n",
    "import numpy as np"
   ]
  },
  {
   "cell_type": "code",
   "execution_count": 2,
   "metadata": {},
   "outputs": [],
   "source": [
    "# Create an empty list to collect all reviews\n",
    "reviews = []\n",
    "\n",
    "# Create an empty list to collect rating stars\n",
    "stars = []\n",
    "\n",
    "# Create an empty list to collect dates\n",
    "date = []\n",
    "\n",
    "# Create an empty list to collect the country the reviewer is from\n",
    "country = []"
   ]
  },
  {
   "cell_type": "code",
   "execution_count": 3,
   "metadata": {},
   "outputs": [
    {
     "name": "stdout",
     "output_type": "stream",
     "text": [
      "Error on page 32\n",
      "Error on page 33\n",
      "Error on page 34\n",
      "Error on page 34\n"
     ]
    }
   ],
   "source": [
    "# Loop through page numbers from 1 to 35\n",
    "for i in range(1, 36):\n",
    "    # Construct the URL for each page\n",
    "    url = f\"https://www.airlinequality.com/airline-reviews/british-airways/page/{i}/?sortby=post_date%3ADesc&pagesize=100\"\n",
    "    \n",
    "    # Make an HTTP request to the page and get its content\n",
    "    page = requests.get(url)\n",
    "    \n",
    "    # Parse the HTML content using BeautifulSoup\n",
    "    soup = BeautifulSoup(page.content, \"html.parser\")\n",
    "    \n",
    "    # Extract text content from all elements with class \"text_content\" and append to 'reviews' list\n",
    "    for item in soup.find_all(\"div\", class_=\"text_content\"):\n",
    "        reviews.append(item.text)\n",
    "    \n",
    "    # Extract star ratings from elements with class \"rating-10\" and append to 'stars' list\n",
    "    for item in soup.find_all(\"div\", class_=\"rating-10\"):\n",
    "        try:\n",
    "            stars.append(item.span.text)\n",
    "        except:\n",
    "            # Handle any errors and append \"None\" to 'stars' in case of an error\n",
    "            print(f\"Error on page {i}\")\n",
    "            stars.append(\"None\")\n",
    "    \n",
    "    # Extract date information from 'time' elements and append to 'date' list\n",
    "    for item in soup.find_all(\"time\"):\n",
    "        date.append(item.text)\n",
    "        \n",
    "    # Extract country information from 'h3' elements and append to 'country' list\n",
    "    for item in soup.find_all(\"h3\"):\n",
    "        country.append(item.span.next_sibling.text.strip(\" ()\"))"
   ]
  },
  {
   "cell_type": "code",
   "execution_count": 4,
   "metadata": {},
   "outputs": [
    {
     "name": "stdout",
     "output_type": "stream",
     "text": [
      "Number of reviews: 3500\n",
      "Number of stars: 3535\n",
      "Number of dates: 3500\n",
      "Number of countries: 3500\n"
     ]
    }
   ],
   "source": [
    "# Print the number of reviews in the 'reviews' list\n",
    "print(f\"Number of reviews: {len(reviews)}\")\n",
    "\n",
    "# Print the number of star ratings in the 'stars' list\n",
    "print(f\"Number of stars: {len(stars)}\")\n",
    "\n",
    "# Print the number of dates in the 'date' list\n",
    "print(f\"Number of dates: {len(date)}\")\n",
    "\n",
    "# Print the number of countries in the 'country' list\n",
    "print(f\"Number of countries: {len(country)}\")"
   ]
  },
  {
   "cell_type": "code",
   "execution_count": 5,
   "metadata": {},
   "outputs": [],
   "source": [
    "# Create a dictionary with keys as column names and values as corresponding lists (limited to 3500 elements)\n",
    "df = {\n",
    "    'Reviews': reviews[:3500],\n",
    "    'Stars': stars[:3500],\n",
    "    'Date': date[:3500],\n",
    "    'Country': country[:3500],\n",
    "}"
   ]
  },
  {
   "cell_type": "code",
   "execution_count": 6,
   "metadata": {},
   "outputs": [],
   "source": [
    "# Create a DataFrame using the dictionary 'df'\n",
    "df = pd.DataFrame(df)"
   ]
  },
  {
   "cell_type": "code",
   "execution_count": 7,
   "metadata": {},
   "outputs": [
    {
     "data": {
      "text/html": [
       "<div>\n",
       "<style scoped>\n",
       "    .dataframe tbody tr th:only-of-type {\n",
       "        vertical-align: middle;\n",
       "    }\n",
       "\n",
       "    .dataframe tbody tr th {\n",
       "        vertical-align: top;\n",
       "    }\n",
       "\n",
       "    .dataframe thead th {\n",
       "        text-align: right;\n",
       "    }\n",
       "</style>\n",
       "<table border=\"1\" class=\"dataframe\">\n",
       "  <thead>\n",
       "    <tr style=\"text-align: right;\">\n",
       "      <th></th>\n",
       "      <th>Reviews</th>\n",
       "      <th>Stars</th>\n",
       "      <th>Date</th>\n",
       "      <th>Country</th>\n",
       "    </tr>\n",
       "  </thead>\n",
       "  <tbody>\n",
       "    <tr>\n",
       "      <th>0</th>\n",
       "      <td>Not Verified | I did not actually get to fly w...</td>\n",
       "      <td>\\n\\t\\t\\t\\t\\t\\t\\t\\t\\t\\t\\t\\t\\t5</td>\n",
       "      <td>5th February 2024</td>\n",
       "      <td>United Kingdom</td>\n",
       "    </tr>\n",
       "    <tr>\n",
       "      <th>1</th>\n",
       "      <td>✅ Trip Verified | We had possibly the worse ch...</td>\n",
       "      <td>1</td>\n",
       "      <td>2nd February 2024</td>\n",
       "      <td>United Kingdom</td>\n",
       "    </tr>\n",
       "    <tr>\n",
       "      <th>2</th>\n",
       "      <td>✅ Trip Verified |  I flew to LHR from ATH in C...</td>\n",
       "      <td>6</td>\n",
       "      <td>30th January 2024</td>\n",
       "      <td>Japan</td>\n",
       "    </tr>\n",
       "    <tr>\n",
       "      <th>3</th>\n",
       "      <td>✅ Trip Verified |  I like the British Airways ...</td>\n",
       "      <td>9</td>\n",
       "      <td>29th January 2024</td>\n",
       "      <td>United Kingdom</td>\n",
       "    </tr>\n",
       "    <tr>\n",
       "      <th>4</th>\n",
       "      <td>✅ Trip Verified |  I have come to boarding and...</td>\n",
       "      <td>8</td>\n",
       "      <td>28th January 2024</td>\n",
       "      <td>Ukraine</td>\n",
       "    </tr>\n",
       "    <tr>\n",
       "      <th>5</th>\n",
       "      <td>✅ Trip Verified | Stinking nappies being chang...</td>\n",
       "      <td>3</td>\n",
       "      <td>26th January 2024</td>\n",
       "      <td>United Kingdom</td>\n",
       "    </tr>\n",
       "    <tr>\n",
       "      <th>6</th>\n",
       "      <td>✅ Trip Verified | Worst service ever. Lost bag...</td>\n",
       "      <td>2</td>\n",
       "      <td>23rd January 2024</td>\n",
       "      <td>Germany</td>\n",
       "    </tr>\n",
       "    <tr>\n",
       "      <th>7</th>\n",
       "      <td>✅ Trip Verified |  BA 246 21JAN 2023 Did not a...</td>\n",
       "      <td>1</td>\n",
       "      <td>21st January 2024</td>\n",
       "      <td>United Kingdom</td>\n",
       "    </tr>\n",
       "    <tr>\n",
       "      <th>8</th>\n",
       "      <td>✅ Trip Verified | Not a great experience. I co...</td>\n",
       "      <td>6</td>\n",
       "      <td>18th January 2024</td>\n",
       "      <td>United Kingdom</td>\n",
       "    </tr>\n",
       "    <tr>\n",
       "      <th>9</th>\n",
       "      <td>Not Verified | I was excited to fly BA as I'd ...</td>\n",
       "      <td>3</td>\n",
       "      <td>18th January 2024</td>\n",
       "      <td>United Kingdom</td>\n",
       "    </tr>\n",
       "  </tbody>\n",
       "</table>\n",
       "</div>"
      ],
      "text/plain": [
       "                                             Reviews  \\\n",
       "0  Not Verified | I did not actually get to fly w...   \n",
       "1  ✅ Trip Verified | We had possibly the worse ch...   \n",
       "2  ✅ Trip Verified |  I flew to LHR from ATH in C...   \n",
       "3  ✅ Trip Verified |  I like the British Airways ...   \n",
       "4  ✅ Trip Verified |  I have come to boarding and...   \n",
       "5  ✅ Trip Verified | Stinking nappies being chang...   \n",
       "6  ✅ Trip Verified | Worst service ever. Lost bag...   \n",
       "7  ✅ Trip Verified |  BA 246 21JAN 2023 Did not a...   \n",
       "8  ✅ Trip Verified | Not a great experience. I co...   \n",
       "9  Not Verified | I was excited to fly BA as I'd ...   \n",
       "\n",
       "                           Stars               Date         Country  \n",
       "0  \\n\\t\\t\\t\\t\\t\\t\\t\\t\\t\\t\\t\\t\\t5  5th February 2024  United Kingdom  \n",
       "1                              1  2nd February 2024  United Kingdom  \n",
       "2                              6  30th January 2024           Japan  \n",
       "3                              9  29th January 2024  United Kingdom  \n",
       "4                              8  28th January 2024         Ukraine  \n",
       "5                              3  26th January 2024  United Kingdom  \n",
       "6                              2  23rd January 2024         Germany  \n",
       "7                              1  21st January 2024  United Kingdom  \n",
       "8                              6  18th January 2024  United Kingdom  \n",
       "9                              3  18th January 2024  United Kingdom  "
      ]
     },
     "execution_count": 7,
     "metadata": {},
     "output_type": "execute_result"
    }
   ],
   "source": [
    "# Display the first 10 rows of the DataFrame\n",
    "df.head(10)"
   ]
  },
  {
   "cell_type": "code",
   "execution_count": 8,
   "metadata": {},
   "outputs": [
    {
     "data": {
      "text/plain": [
       "(3500, 4)"
      ]
     },
     "execution_count": 8,
     "metadata": {},
     "output_type": "execute_result"
    }
   ],
   "source": [
    "# Display the shape of the dataframe\n",
    "df.shape"
   ]
  },
  {
   "cell_type": "code",
   "execution_count": 9,
   "metadata": {},
   "outputs": [],
   "source": [
    "# Saving the dataframe into a CSV file\n",
    "df.to_csv('reviews_data.csv', index=False)"
   ]
  },
  {
   "cell_type": "code",
   "execution_count": null,
   "metadata": {},
   "outputs": [],
   "source": []
  }
 ],
 "metadata": {
  "kernelspec": {
   "display_name": "Python 3 (ipykernel)",
   "language": "python",
   "name": "python3"
  },
  "language_info": {
   "codemirror_mode": {
    "name": "ipython",
    "version": 3
   },
   "file_extension": ".py",
   "mimetype": "text/x-python",
   "name": "python",
   "nbconvert_exporter": "python",
   "pygments_lexer": "ipython3",
   "version": "3.12.0"
  },
  "vscode": {
   "interpreter": {
    "hash": "4f7924c4c56b083e0e50eadfe7ef592a7a8ef70df33a0047f82280e6be1afe15"
   }
  }
 },
 "nbformat": 4,
 "nbformat_minor": 4
}
